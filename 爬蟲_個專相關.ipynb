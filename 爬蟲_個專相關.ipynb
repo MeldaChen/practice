{
  "nbformat": 4,
  "nbformat_minor": 0,
  "metadata": {
    "colab": {
      "provenance": [],
      "authorship_tag": "ABX9TyOYl5T536nFPPQiJVNuSiui",
      "include_colab_link": true
    },
    "kernelspec": {
      "name": "python3",
      "display_name": "Python 3"
    },
    "language_info": {
      "name": "python"
    }
  },
  "cells": [
    {
      "cell_type": "markdown",
      "metadata": {
        "id": "view-in-github",
        "colab_type": "text"
      },
      "source": [
        "<a href=\"https://colab.research.google.com/github/MeldaChen/practice/blob/main/%E7%88%AC%E8%9F%B2_%E5%80%8B%E5%B0%88%E7%9B%B8%E9%97%9C.ipynb\" target=\"_parent\"><img src=\"https://colab.research.google.com/assets/colab-badge.svg\" alt=\"Open In Colab\"/></a>"
      ]
    },
    {
      "cell_type": "code",
      "execution_count": null,
      "metadata": {
        "colab": {
          "base_uri": "https://localhost:8080/"
        },
        "id": "kjIN3it8xmO_",
        "outputId": "f34382f0-f5b9-4ed6-b017-001fa8ad79de"
      },
      "outputs": [
        {
          "output_type": "stream",
          "name": "stdout",
          "text": [
            "Looking in indexes: https://pypi.org/simple, https://us-python.pkg.dev/colab-wheels/public/simple/\n",
            "Requirement already satisfied: beautifulsoup4 in /usr/local/lib/python3.7/dist-packages (4.6.3)\n"
          ]
        }
      ],
      "source": [
        "pip install beautifulsoup4"
      ]
    },
    {
      "cell_type": "code",
      "source": [
        "import requests\n",
        "import codecs\n",
        "import csv\n",
        "import prettytable\n",
        "import io\n",
        "import IPython.display as dp\n",
        "import json\n",
        "from bs4 import BeautifulSoup\n",
        "\n",
        "r1 = requests.get(\"https://koyo.walkerplus.com/list/ar0101\")\n",
        "\n",
        "p1 = BeautifulSoup(r1.text, \"html.parser\")\n",
        "\n",
        "data1 = p1.find_all(\"h2\",limit=10)\n",
        "\n",
        "list1 = []\n",
        "for d1 in data1:\n",
        " list1.append(d1.text)\n",
        "# print(list1)\n",
        "\n",
        "data2 = p1.find_all(\"img\",limit=11)\n",
        "\n",
        "list2 = []\n",
        "for a in data2:\n",
        " list2.append(a.get('src'))\n",
        "# print(list2)\n",
        "\n",
        "for i in range(0, 10, 1):\n",
        "  print(list1[i], list2[i+1])\n",
        "\n"
      ],
      "metadata": {
        "colab": {
          "base_uri": "https://localhost:8080/"
        },
        "id": "an5hulrI-SH6",
        "outputId": "ca2aa163-e3b1-4743-f799-d82cfa8dbead"
      },
      "execution_count": null,
      "outputs": [
        {
          "output_type": "stream",
          "name": "stdout",
          "text": [
            "円山公園の紅葉 https://image.walkerplus.com/wpimg/walkertouch/wtd/event/45/l/12945.jpg\n",
            "西岡公園の紅葉 https://image.walkerplus.com/wpimg/walkertouch/wtd/images/l/164185.jpg\n",
            "定山渓ダム下流園地の紅葉 https://image.walkerplus.com/wpimg/walkertouch/wtd/event/04/l/12904.jpg\n",
            "定山渓(定山渓温泉)の紅葉 https://image.walkerplus.com/wpimg/walkertouch/wtd/images/l/163783.jpg\n",
            "国営滝野すずらん丘陵公園の紅葉 https://image.walkerplus.com/wpimg/walkertouch/wtd/event/46/l/12946_1.jpg\n",
            "定山渓(豊平峡ダム)の紅葉 https://image.walkerplus.com/wpimg/walkertouch/wtd/event/82/l/12982.jpg\n",
            "香雪園(見晴公園内)の紅葉 https://image.walkerplus.com/wpimg/walkertouch/wtd/event/91/l/154391.jpg\n",
            "神居古潭の紅葉 https://image.walkerplus.com/wpimg/walkertouch/wtd/event/86/l/154386.jpg\n",
            "阿寒湖畔の紅葉 https://image.walkerplus.com/wpimg/walkertouch/wtd/images/l/163776.jpg\n",
            "岩内仙峡の紅葉 https://image.walkerplus.com/wpimg/walkertouch/wtd/event/18/l/12918.jpg\n"
          ]
        }
      ]
    },
    {
      "cell_type": "code",
      "source": [
        "import requests\n",
        "import codecs\n",
        "import csv\n",
        "import prettytable\n",
        "import io\n",
        "import IPython.display as dp\n",
        "import json\n",
        "from bs4 import BeautifulSoup\n",
        "\n",
        "\n",
        "r1 = requests.get(\"https://data.taipei/api/dataset/2704f07d-4d1d-4cef-b53a-c44aef326d96/resource/c7784a9f-e11e-4145-8b72-95b44fdc7b83/download\")\n",
        "# r1.encoding = \"utf-8\"\n",
        "data = list(csv.reader(io.StringIO(r1.text)))\n",
        "\n",
        "# for i in range(1, len(data), 1):\n",
        "#   # print(i, data[i][0],data[i][1],data[i][2],data[i][5][25:-8])\n",
        "#   park_all=(i, data[i][0],data[i][1],data[i][2],data[i][5][25:-8])\n",
        "#   print(park_all)\n",
        "\n",
        "# 搜尋區域，秀出公園、連結google地圖\n",
        "a = input(\"請輸入行政區：\") \n",
        "for i in range(1, len(data), 1):\n",
        "  if a in data[i][1]:\n",
        "    print(data[i][0],data[i][5][25:-8])\n",
        "    print(\"https://www.google.com/maps/search/?api=1&query=\", data[i][0], sep='')\n",
        "    print(\"https://www.google.com/maps/search/?api=1&query=\", data[i][4],\",\",data[i][3], sep='')\n",
        "\n",
        "  "
      ],
      "metadata": {
        "colab": {
          "base_uri": "https://localhost:8080/"
        },
        "id": "0q3mXVcBMVfO",
        "outputId": "f5e8a897-75c8-4c25-a37e-a19090039d35"
      },
      "execution_count": null,
      "outputs": [
        {
          "output_type": "stream",
          "name": "stdout",
          "text": [
            "請輸入行政區：士林區\n",
            "福中公園 https://play4u.gov.taipei/News_Content.aspx?n=4773608F226124D4&sms=7B56BA5392EB632C&s=D704D250E15EE061\n",
            "https://www.google.com/maps/search/?api=1&query=福中公園\n",
            "https://www.google.com/maps/search/?api=1&query=25.08827,121.51895\n",
            "士林4號廣場 https://play4u.gov.taipei/News_Content.aspx?n=4773608F226124D4&sms=7B56BA5392EB632C&s=B461E93E6EF34B85\n",
            "https://www.google.com/maps/search/?api=1&query=士林4號廣場\n",
            "https://www.google.com/maps/search/?api=1&query=25.09612,121.53221\n",
            "兒童新樂園(機械式) https://play4u.gov.taipei/News_Content.aspx?n=4773608F226124D4&sms=7B56BA5392EB632C&s=D4D92846026D0EDB\n",
            "https://www.google.com/maps/search/?api=1&query=兒童新樂園(機械式)\n",
            "https://www.google.com/maps/search/?api=1&query=25.09715,121.51473\n",
            "兒童新樂園(非機械式) https://play4u.gov.taipei/News_Content.aspx?n=4773608F226124D4&sms=7B56BA5392EB632C&s=8D88B656BFDEF08A\n",
            "https://www.google.com/maps/search/?api=1&query=兒童新樂園(非機械式)\n",
            "https://www.google.com/maps/search/?api=1&query=25.09715,121.51473\n",
            "天母夢想樂園 https://play4u.gov.taipei/News_Content.aspx?n=4773608F226124D4&sms=7B56BA5392EB632C&s=CE9DDFC3318FCC70\n",
            "https://www.google.com/maps/search/?api=1&query=天母夢想樂園\n",
            "https://www.google.com/maps/search/?api=1&query=25.11387,121.53342\n",
            "前港公園 https://play4u.gov.taipei/News_Content.aspx?n=4773608F226124D4&sms=7B56BA5392EB632C&s=8E87AD00FBD0CDA4\n",
            "https://www.google.com/maps/search/?api=1&query=前港公園\n",
            "https://www.google.com/maps/search/?api=1&query=25.08651,121.52094\n",
            "臺北市立臺北特殊教育學校 https://play4u.gov.taipei/News_Content.aspx?n=4773608F226124D4&sms=7B56BA5392EB632C&s=9AB18CB6CB4EBEA5\n",
            "https://www.google.com/maps/search/?api=1&query=臺北市立臺北特殊教育學校\n",
            "https://www.google.com/maps/search/?api=1&query=25.11658,121.5361\n",
            "芝山國小 https://play4u.gov.taipei/News_Content.aspx?n=4773608F226124D4&sms=7B56BA5392EB632C&s=A571C856159C2696\n",
            "https://www.google.com/maps/search/?api=1&query=芝山國小\n",
            "https://www.google.com/maps/search/?api=1&query=25.1106,121.53648\n",
            "天母公園 https://play4u.gov.taipei/News_Content.aspx?n=4773608F226124D4&sms=7B56BA5392EB632C&s=1D446894A971687F\n",
            "https://www.google.com/maps/search/?api=1&query=天母公園\n",
            "https://www.google.com/maps/search/?api=1&query=25.12593,121.53042\n",
            "美崙公園 https://play4u.gov.taipei/News_Content.aspx?n=4773608F226124D4&sms=7B56BA5392EB632C&s=F23D718C9B897900\n",
            "https://www.google.com/maps/search/?api=1&query=美崙公園\n",
            "https://www.google.com/maps/search/?api=1&query=25.09731,121.51839\n",
            "福林公園 https://play4u.gov.taipei/News_Content.aspx?n=4773608F226124D4&sms=7B56BA5392EB632C&s=88888DF9B7701A6D\n",
            "https://www.google.com/maps/search/?api=1&query=福林公園\n",
            "https://www.google.com/maps/search/?api=1&query=25.09576,121.52997\n"
          ]
        }
      ]
    },
    {
      "cell_type": "code",
      "source": [
        "import requests\n",
        "import codecs\n",
        "import csv\n",
        "import prettytable\n",
        "import io\n",
        "import IPython.display as dp\n",
        "import json\n",
        "from bs4 import BeautifulSoup\n",
        "\n",
        "r2 = requests.get(\"https://play4u.gov.taipei/News_Content.aspx?n=4773608F226124D4&sms=7B56BA5392EB632C&s=B461E93E6EF34B85\")\n",
        "\n",
        "p1 = BeautifulSoup(r2.text, \"html.parser\")\n",
        "\n",
        "# 取得主照片\n",
        "data2 = p1.find(\"img\")\n",
        "print(data2.get('src'))\n",
        "\n",
        "# 取得主說明\n",
        "data3 = p1.find_all(\"p\")\n",
        "list3 =[]\n",
        "for i in data3:\n",
        "  list3.append(i.text)\n",
        "print(list3[1].lstrip())\n",
        "\n",
        "# 取得更多照片\n",
        "\n",
        "data4 = p1.find_all(property=\"og:image\")\n",
        "\n",
        "for i in data4:\n",
        "  print(i.get(\"content\"))\n",
        "\n",
        "\n"
      ],
      "metadata": {
        "colab": {
          "base_uri": "https://localhost:8080/"
        },
        "id": "7MroRdEVhyaT",
        "outputId": "1274947a-ebe8-4395-cb43-5967536312ad"
      },
      "execution_count": null,
      "outputs": [
        {
          "output_type": "stream",
          "name": "stdout",
          "text": [
            "https://www-ws.gov.taipei//001/Upload/297/attachment/7419131/710201592837.jpg\n",
            "地址：110204 臺北市信義區市府路1號 (如何到達市府)\r\n",
            "電話：02-27208889(代表號)\r\n",
            "免付費電話：臺北市民當家熱線 1999(免付費電話服務，公共電話，放心講及第二類電信除外)　\n",
            "https://www-ws.gov.taipei/001/Upload/297/relpic/40754/7419131/710201595338@710x470.jpg\n",
            "https://www-ws.gov.taipei/001/Upload/297/relpic/40754/7419131/7102015101656@710x470.jpg\n",
            "https://www-ws.gov.taipei/001/Upload/297/relpic/40754/7419131/7102015103239@710x470.jpg\n"
          ]
        }
      ]
    }
  ]
}