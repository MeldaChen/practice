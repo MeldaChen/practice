{
  "nbformat": 4,
  "nbformat_minor": 0,
  "metadata": {
    "colab": {
      "provenance": [],
      "authorship_tag": "ABX9TyMKsqSZ7Q27JguVd8xzpUsx",
      "include_colab_link": true
    },
    "kernelspec": {
      "name": "python3",
      "display_name": "Python 3"
    },
    "language_info": {
      "name": "python"
    }
  },
  "cells": [
    {
      "cell_type": "markdown",
      "metadata": {
        "id": "view-in-github",
        "colab_type": "text"
      },
      "source": [
        "<a href=\"https://colab.research.google.com/github/MeldaChen/practice/blob/main/%E5%9B%9B%E5%89%87%E9%81%8B%E7%AE%97.ipynb\" target=\"_parent\"><img src=\"https://colab.research.google.com/assets/colab-badge.svg\" alt=\"Open In Colab\"/></a>"
      ]
    },
    {
      "cell_type": "code",
      "execution_count": 5,
      "metadata": {
        "colab": {
          "base_uri": "https://localhost:8080/"
        },
        "id": "w-2lR3hjWSFc",
        "outputId": "87f6d42f-493b-49d5-a0ff-5f864c316461"
      },
      "outputs": [
        {
          "output_type": "stream",
          "name": "stdout",
          "text": [
            "請輸入數字一：5\n",
            "請輸入數字二：6\n",
            "請輸入運算符號+-*/：7\n",
            "不支援此運算符號\n"
          ]
        }
      ],
      "source": [
        "n1 = int(input('請輸入數字一：'))\n",
        "n2 = int(input('請輸入數字二：'))\n",
        "op = input(\"請輸入運算符號+-*/：\")\n",
        "if op == \"+\":\n",
        "  print(n1 + n2)\n",
        "elif op == \"-\":\n",
        "  print(n1 - n2)\n",
        "elif op == \"*\":\n",
        "  print(n1 * n2)\n",
        "elif op == \"/\":\n",
        "  print(n1 / n2)\n",
        "else:\n",
        "  print(\"不支援此運算符號\")\n",
        "\n"
      ]
    }
  ]
}