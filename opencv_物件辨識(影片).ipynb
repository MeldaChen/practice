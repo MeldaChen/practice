{
  "nbformat": 4,
  "nbformat_minor": 0,
  "metadata": {
    "colab": {
      "provenance": [],
      "authorship_tag": "ABX9TyMANJZMl9mhuIaw0SZ3ZoBy",
      "include_colab_link": true
    },
    "kernelspec": {
      "name": "python3",
      "display_name": "Python 3"
    },
    "language_info": {
      "name": "python"
    }
  },
  "cells": [
    {
      "cell_type": "markdown",
      "metadata": {
        "id": "view-in-github",
        "colab_type": "text"
      },
      "source": [
        "<a href=\"https://colab.research.google.com/github/MeldaChen/practice/blob/main/opencv_%E7%89%A9%E4%BB%B6%E8%BE%A8%E8%AD%98(%E5%BD%B1%E7%89%87).ipynb\" target=\"_parent\"><img src=\"https://colab.research.google.com/assets/colab-badge.svg\" alt=\"Open In Colab\"/></a>"
      ]
    },
    {
      "cell_type": "code",
      "execution_count": null,
      "metadata": {
        "id": "gHyZSzjttqB9"
      },
      "outputs": [],
      "source": [
        "import cv2\n",
        "import numpy as np\n",
        "import IPython.display as dp\n",
        "from google.colab.patches import cv2_imshow\n",
        "from PIL import ImageFont, ImageDraw, Image\n",
        "import time\n",
        "\n",
        "p1 = cv2.VideoCapture(\"h3.mp4\")\n",
        "width = int(p1.get(cv2.CAP_PROP_FRAME_WIDTH))   \n",
        "height = int(p1.get(cv2.CAP_PROP_FRAME_HEIGHT))\n",
        "fourcc = cv2.VideoWriter_fourcc(*'MP4V')          \n",
        "out = cv2.VideoWriter('h3-2.mp4', fourcc, 30.0, (width,  height)) \n",
        "\n",
        "while p1.isOpened() == True:\n",
        "  ret, m1 = p1.read()\n",
        "  # print(\"當前的影格：\", p1.get(1))\n",
        "  if ret == True:\n",
        "     \n",
        "    m2 = m1.copy()\n",
        "    m2 = np.full(m1.shape, (120, 0, 0), np.uint8)\n",
        "    m3 = cv2.add(m1, m2)\n",
        "\n",
        "    m4 = cv2.inRange(m3, (200, 0, 0), (255, 85, 85))\n",
        "\n",
        "    blur = cv2.GaussianBlur(m4,(21,21),0)\n",
        "\n",
        "    canny = cv2.Canny(blur, 0, 90)\n",
        "\n",
        "    th, canny = cv2.threshold(canny, 10, 255, cv2.THRESH_BINARY)\n",
        "\n",
        "    morph = cv2.morphologyEx(canny, cv2.MORPH_GRADIENT, np.ones((10, 10))) \n",
        "    p, t = cv2.findContours(morph, cv2.RETR_EXTERNAL, cv2.CHAIN_APPROX_SIMPLE)\n",
        " \n",
        "\n",
        "    for i in range(0, len(p), 1): \n",
        "      x, y, w, h = cv2.boundingRect(p[i]) \n",
        "      cv2.rectangle(m1, (x,y), (x+w, y+h), (0, 0, 255), 2)\n",
        "    out.write(m1)       \n",
        "  else:\n",
        "    break\n",
        "\n",
        "p1.release()\n",
        "out.release()      \n",
        "cv2.destroyAllWindows()"
      ]
    }
  ]
}