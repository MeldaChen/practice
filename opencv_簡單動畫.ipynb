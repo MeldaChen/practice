{
  "cells": [
    {
      "cell_type": "markdown",
      "metadata": {
        "id": "view-in-github",
        "colab_type": "text"
      },
      "source": [
        "<a href=\"https://colab.research.google.com/github/MeldaChen/practice/blob/main/opencv_%E7%B0%A1%E5%96%AE%E5%8B%95%E7%95%AB.ipynb\" target=\"_parent\"><img src=\"https://colab.research.google.com/assets/colab-badge.svg\" alt=\"Open In Colab\"/></a>"
      ]
    },
    {
      "cell_type": "code",
      "execution_count": null,
      "metadata": {
        "colab": {
          "background_save": true,
          "base_uri": "https://localhost:8080/",
          "height": 67
        },
        "id": "fuz1pTzc4wYI",
        "outputId": "0969fa39-f00a-45b1-c93f-1909ff7906a7"
      },
      "outputs": [
        {
          "data": {
            "image/png": "[encoded data removed]",
            "text/plain": [
              "<PIL.Image.Image image mode=RGB size=100x50 at 0x7F506173FA90>"
            ]
          },
          "metadata": {},
          "output_type": "display_data"
        }
      ],
      "source": [
        "import cv2\n",
        "import numpy as np\n",
        "import IPython.display as dp\n",
        "from google.colab.patches import cv2_imshow\n",
        "import time\n",
        "\n",
        "while True:\n",
        "  for x in range(0, 90, 1):\n",
        "    dp.clear_output(True)\n",
        "    m1 = np.full((50, 100, 3), (255, 255, 255), np.uint8)\n",
        "    cv2.rectangle(m1, (x, 10), (x+10, 20), (255, 0, 0), -1)\n",
        "    cv2_imshow(m1)\n",
        "    time.sleep(0.1)\n",
        "\n",
        "  for y in range(0, 90, 1):\n",
        "    dp.clear_output(True)\n",
        "    m1 = np.full((50, 100, 3), (255, 255, 255), np.uint8)\n",
        "    cv2.rectangle(m1, ((100-y), 10), ((90-y), 20), (255, 0, 0), -1)\n",
        "    cv2_imshow(m1)\n",
        "    time.sleep(0.1)"
      ]
    }
  ],
  "metadata": {
    "colab": {
      "provenance": [],
      "authorship_tag": "ABX9TyPW9ekg1K2EVkg++mjHMc/V",
      "include_colab_link": true
    },
    "kernelspec": {
      "display_name": "Python 3",
      "name": "python3"
    },
    "language_info": {
      "name": "python"
    }
  },
  "nbformat": 4,
  "nbformat_minor": 0
}