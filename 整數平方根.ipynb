{
  "nbformat": 4,
  "nbformat_minor": 0,
  "metadata": {
    "colab": {
      "provenance": [],
      "authorship_tag": "ABX9TyPWvDJtmQjKQLA0dU5fD48D",
      "include_colab_link": true
    },
    "kernelspec": {
      "name": "python3",
      "display_name": "Python 3"
    },
    "language_info": {
      "name": "python"
    }
  },
  "cells": [
    {
      "cell_type": "markdown",
      "metadata": {
        "id": "view-in-github",
        "colab_type": "text"
      },
      "source": [
        "<a href=\"https://colab.research.google.com/github/MeldaChen/practice/blob/main/%E6%95%B4%E6%95%B8%E5%B9%B3%E6%96%B9%E6%A0%B9.ipynb\" target=\"_parent\"><img src=\"https://colab.research.google.com/assets/colab-badge.svg\" alt=\"Open In Colab\"/></a>"
      ]
    },
    {
      "cell_type": "code",
      "execution_count": 2,
      "metadata": {
        "colab": {
          "base_uri": "https://localhost:8080/"
        },
        "id": "w-2lR3hjWSFc",
        "outputId": "93b6d5ba-a27a-4707-b3c7-23ee05c5fa8f"
      },
      "outputs": [
        {
          "output_type": "stream",
          "name": "stdout",
          "text": [
            "請輸入正整數：36\n",
            "整數平方根為： 6\n"
          ]
        }
      ],
      "source": [
        "n = int(input('請輸入正整數：'))\n",
        "n = int(n) #字串轉數字\n",
        "for i in range(0, n-1):\n",
        "  if i * i == n:\n",
        "    print(\"整數平方根為：\", i)\n",
        "    break #break之後不會再執行else\n",
        "else:\n",
        "  print(\"沒有整數平方根\")\n",
        "\n"
      ]
    },
    {
      "cell_type": "code",
      "source": [
        "n = int(input('請輸入正整數：'))\n",
        "n = int(n) #字串轉數字\n",
        "for i in range(0, n-1):\n",
        "  if i * i == n:\n",
        "    print(\"整數平方根為：\", i)\n",
        "    break #break之後不會再執行else\n",
        "  else:\n",
        "    print(\"沒有整數平方根\") #else在裡面,每一次執行都會跑一次else，所以才會有第二到六行，實際上應將else對齊for，如上"
      ],
      "metadata": {
        "colab": {
          "base_uri": "https://localhost:8080/"
        },
        "id": "WSRPL-I_mUG_",
        "outputId": "901f8a5c-7aaa-4f4b-c952-f485770f1a8e"
      },
      "execution_count": 3,
      "outputs": [
        {
          "output_type": "stream",
          "name": "stdout",
          "text": [
            "請輸入正整數：36\n",
            "沒有整數平方根\n",
            "沒有整數平方根\n",
            "沒有整數平方根\n",
            "沒有整數平方根\n",
            "沒有整數平方根\n",
            "沒有整數平方根\n",
            "整數平方根為： 6\n"
          ]
        }
      ]
    }
  ]
}